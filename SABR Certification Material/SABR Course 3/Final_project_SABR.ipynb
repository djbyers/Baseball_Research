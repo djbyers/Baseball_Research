{
  "cells": [
    {
      "cell_type": "markdown",
      "metadata": {
        "id": "OSNhzIcF3_VC"
      },
      "source": [
        "# SABR Certification Course 3: Final Project\n",
        "\n",
        " I'm going to challenge you to calculate a simple set of MARCEL projections and then figure out how to beat MARCEL, using either a different, new set of data or a better method. Let's do it."
      ]
    },
    {
      "cell_type": "markdown",
      "metadata": {
        "id": "CzvTKl5M7CUQ"
      },
      "source": [
        "**The final assignment**\n",
        "\n",
        "Now you've seen the basics of how MARCEL works, your final assignment will be to calculate a MARCEL projection, and then beat it. Here's a guide to the rules, a formula, and how to go about it. I encourage you to start with the code I've provided in these tutorials and then modify it as necessary to finish the assignment.\n",
        "\n",
        "https://docs.google.com/document/d/1iZhoSN2Y5d9xfgx5qYI8gwUfrW1vaXbf4qssWaNXzUA/edit?usp=sharing\n",
        "\n",
        "The data for the assignment is here:\n",
        "https://huggingface.co/spaces/rkarthur/sabr3evaluation/blob/main/data/SABR3_data_for_assignment.csv\n",
        "\n",
        "You should submit your final assignment in the learning management system, providing the email that you'd like to receive feedback at.\n",
        "\n",
        "There needs to be a column labeled `MARCEL_OPS` that contains your predicted MARCEL OPS, and then a second column labeled `BETTER_THAN_MARCEL_OPS` that contains your improved version of MARCEL's numbers. The application will automatically grade your assignment and let you know if your numbers are matching MARCEL and then, better than MARCEL.\n",
        "\n",
        "Once you beat MARCEL, imagine you're giving a brief to a data scientist colleague and write up a brief paragraph or so about how you did it. Consider including how you got the data, how you linked it with the existing data, and how much it improved the resulting projections. You'll submit that brief as well for feedback from the Baseball Prospectus graders. Good luck!\n"
      ]
    },
    {
      "cell_type": "code",
      "execution_count": null,
      "metadata": {
        "id": "wb89c3ScT_0h"
      },
      "outputs": [],
      "source": [
        "library(tidyverse)\n",
        "data = read_csv(\"https://huggingface.co/spaces/rkarthur/sabr3evaluation/resolve/main/data/SABR3_data_for_assignment.csv\")\n",
        "head(data)\n"
      ]
    },
    {
      "cell_type": "code",
      "execution_count": null,
      "metadata": {
        "id": "EZqWy13PSXWX"
      },
      "outputs": [],
      "source": [
        " data1 <- data %>%\n",
        "  mutate(total_pas = PA1 + PA2 + PA3,\n",
        "        age_adj = ifelse(Age > 29, (Age - 29)* -0.003, (29 - Age)* 0.006),\n",
        "        reliability = total_pas/(total_pas + 1200),\n",
        "        final_age_adj = 1 + age_adj,\n",
        "        w_OPS = (5*(OPSY1) +  4*(OPSY2) + 3*(OPSY3))/12,\n",
        "        regr_rate = (reliability * w_OPS) + ((1 - reliability)*.720),\n",
        "        MARCEL_OPS = final_age_adj * regr_rate)\n"
      ]
    },
    {
      "cell_type": "code",
      "execution_count": null,
      "metadata": {
        "id": "aRH7ReEV2_fD"
      },
      "outputs": [],
      "source": [
        "data1"
      ]
    },
    {
      "cell_type": "code",
      "execution_count": null,
      "metadata": {
        "id": "wNKfNkJDS11B"
      },
      "outputs": [],
      "source": [
        " data2 <- data %>%\n",
        "  mutate(player_age_adj = Age + 1,\n",
        "        total_pas = PA1 + PA2 + PA3,\n",
        "        age_adj = ifelse(player_age_adj > 29, (player_age_adj - 29)* -0.003, (29 - player_age_adj)* 0.006),\n",
        "        reliability = total_pas/(total_pas + 1200),\n",
        "        final_age_adj = 1 + age_adj,\n",
        "        weighted_OPS = (5*(OPSY1) +  4*(OPSY2) + 3*(OPSY3))/12,\n",
        "        regr_rate = (reliability * weighted_OPS) + ((1 - reliability)*.720),\n",
        "        MARCEL_OPS = final_age_adj * regr_rate)"
      ]
    },
    {
      "cell_type": "code",
      "execution_count": null,
      "metadata": {
        "id": "qajdoMoZTH8u"
      },
      "outputs": [],
      "source": [
        "data2"
      ]
    },
    {
      "cell_type": "code",
      "execution_count": null,
      "metadata": {
        "id": "LSLMkwY9MOVX"
      },
      "outputs": [],
      "source": [
        "statcast = read_csv(\"stats.csv\")\n",
        "head(statcast)"
      ]
    },
    {
      "cell_type": "code",
      "execution_count": null,
      "metadata": {
        "id": "vgBh081b7YgH"
      },
      "outputs": [],
      "source": [
        "str(statcast)"
      ]
    },
    {
      "cell_type": "code",
      "execution_count": null,
      "metadata": {
        "id": "rvbW2gusi7cP"
      },
      "outputs": [],
      "source": [
        "statcast_expanded <- statcast %>%\n",
        "  group_by(player_id) %>%\n",
        "  mutate( Z_O = z_swing_percent - oz_swing_percent,\n",
        "          K_BB = k_percent - bb_percent,\n",
        "          pa1 = lag(pa, 1),\n",
        "          pa2 = lag(pa, 2),\n",
        "          pa3 = lag(pa, 3),\n",
        "          total_pa = pa1 + pa2 + pa3,\n",
        "          total_pa2 = pa + pa1 + pa2 + pa3,\n",
        "          HH1 = lag(hard_hit_percent, 1),\n",
        "          HH2 = lag(hard_hit_percent, 2),\n",
        "          HH3 = lag(hard_hit_percent, 3),\n",
        "          SS1 = lag(sweet_spot_percent, 1),\n",
        "          SS2 = lag(sweet_spot_percent, 2),\n",
        "          SS3 = lag(sweet_spot_percent, 3),\n",
        "          Chase1 = lag(oz_swing_percent, 1),\n",
        "          Chase2 = lag(oz_swing_percent, 2),\n",
        "          Chase3 = lag(oz_swing_percent, 3),\n",
        "          Whiff1 = lag(whiff_percent, 1),\n",
        "          Whiff2 = lag(whiff_percent, 2),\n",
        "          Whiff3 = lag(whiff_percent, 3),\n",
        "          ZO1 = lag(Z_O, 1),\n",
        "          ZO2 = lag(Z_O, 2),\n",
        "          ZO3 = lag(Z_O, 3),\n",
        "          BB1 = lag(bb_percent, 1),\n",
        "          BB2 = lag(bb_percent, 2),\n",
        "          BB3 = lag(bb_percent, 3),\n",
        "          KBB1 = lag(K_BB, 1),\n",
        "          KBB2 = lag(K_BB, 2),\n",
        "          KBB3 = lag(K_BB, 3),\n",
        "          xwoba1 = lag(xwoba, 1),\n",
        "          xwoba2 = lag(xwoba, 2),\n",
        "          xwoba3 = lag(xwoba, 3),\n",
        "          woba1 = lag(woba, 1),\n",
        "          woba2 = lag(woba, 2),\n",
        "          woba3 = lag(woba, 3),\n",
        "          xiso1 = lag(xiso, 1),\n",
        "          xiso2 = lag(xiso, 2),\n",
        "          xiso3 = lag(xiso, 3),\n",
        "          xslg1 = lag(xslg, 1),\n",
        "          xslg2 = lag(xslg, 2),\n",
        "          xslg3 = lag(xslg, 3),\n",
        "          xobp1 = lag(xobp, 1),\n",
        "          xobp2 = lag(xobp, 2),\n",
        "          xobp3 = lag(xobp, 3),\n",
        "          xops = xobp + xslg,\n",
        "          xops1 = xobp1 + xslg1,\n",
        "          xops2 = xobp2 + xslg2,\n",
        "          xops3 = xobp3 + xslg3,\n",
        "          xwobacon1 = lag(xwobacon, 1),\n",
        "          xwobacon2 = lag(xwobacon, 2),\n",
        "          xwobacon3 = lag(xwobacon, 3),\n",
        "          barrel1 = lag(barrel_batted_rate, 1),\n",
        "          barrel2 = lag(barrel_batted_rate, 2),\n",
        "          barrel3 = lag(barrel_batted_rate, 3),\n",
        "          ev50_1 = lag(avg_best_speed, 1),\n",
        "          ev50_2 = lag(avg_best_speed, 2),\n",
        "          ev50_3 = lag(avg_best_speed, 3),\n",
        "          adj_ev1 = lag(avg_hyper_speed, 1),\n",
        "          adj_ev2 = lag(avg_hyper_speed, 2),\n",
        "          adj_ev3 = lag(avg_hyper_speed, 3),\n",
        "          ops1 = lag(on_base_plus_slg, 1),\n",
        "          ops2 = lag(on_base_plus_slg, 2),\n",
        "          ops3 = lag(on_base_plus_slg, 3),\n",
        "          xwoba_xiso1 = xwoba1 + xiso1,\n",
        "          xwoba_xiso2 = xwoba2 + xiso2,\n",
        "          xwoba_xiso3 = xwoba3 + xiso3,\n",
        "          xwoba_adj1 = (0.74522/0.32135)*xwoba1,\n",
        "          xwoba_adj2 = (0.74518/0.32046)*xwoba2,\n",
        "          xwoba_adj3 = (0.74547/0.31856)*xwoba3\n",
        "          )%>%\n",
        "            filter(pa1 >= 100 & pa2 >= 100 & pa3 >= 100)%>%\n",
        "            na.omit()"
      ]
    },
    {
      "cell_type": "code",
      "source": [
        "statcast_expanded"
      ],
      "metadata": {
        "id": "n85zj7uTah89"
      },
      "execution_count": null,
      "outputs": []
    },
    {
      "cell_type": "code",
      "execution_count": null,
      "metadata": {
        "id": "7PsmEBsxS-Dd"
      },
      "outputs": [],
      "source": [
        "if (!requireNamespace('pacman', quietly = TRUE)){\n",
        "  install.packages('pacman')\n",
        "}\n",
        "pacman::p_load_current_gh(\"BillPetti/baseballr\")\n",
        "\n",
        "install.packages(\"Lahman\")\n",
        "install.packages(\"tidyverse\")\n",
        "install.packages(\"RSQLite\")\n",
        "library(Lahman)\n",
        "library(baseballr)\n",
        "library(tidyverse)\n",
        "library(RSQLite)"
      ]
    },
    {
      "cell_type": "code",
      "source": [
        "player_key_lookups <- chadwick_player_lu()%>%\n",
        "  select(key_mlbam, key_bbref, key_bbref_minors, name_last, name_first)%>%\n",
        "  filter(!is.na(key_mlbam))\n",
        "\n",
        "\n",
        "player_key_lookups\n"
      ],
      "metadata": {
        "id": "UlTjC50rUKFi"
      },
      "execution_count": null,
      "outputs": []
    },
    {
      "cell_type": "code",
      "source": [
        "final_statcast_df <-statcast_expanded%>%\n",
        "  left_join(player_key_lookups,\n",
        "join_by(player_id == key_mlbam))%>%\n",
        "  select('last_name, first_name', player_id, key_bbref, year, player_age, pa, pa1, pa2, pa3, total_pa, total_pa2,on_base_plus_slg, xops, xops1, xops2, xops3, ops1, ops2, ops3)"
      ],
      "metadata": {
        "id": "Xd-YgvAQ9NCx"
      },
      "execution_count": null,
      "outputs": []
    },
    {
      "cell_type": "code",
      "source": [
        "final_statcast_df %>%\n",
        "  select(player_id, year, player_age, pa, pa1, pa2, pa3, total_pa, total_pa2, on_base_plus_slg, xops, xops1, xops2, xops3)%>%\n",
        "  cor()"
      ],
      "metadata": {
        "id": "0iQ_D7ZPlhHG"
      },
      "execution_count": null,
      "outputs": []
    },
    {
      "cell_type": "code",
      "source": [
        "final_statcast_df"
      ],
      "metadata": {
        "id": "Jrt7cgWoccN-"
      },
      "execution_count": null,
      "outputs": []
    },
    {
      "cell_type": "code",
      "source": [
        "summary(lm(on_base_plus_slg ~ player_age + (xops1) + (xops2) + (xops3) + total_pa, data = final_statcast_df))"
      ],
      "metadata": {
        "id": "9WODlHg1lRTw"
      },
      "execution_count": null,
      "outputs": []
    },
    {
      "cell_type": "code",
      "source": [
        "train1 <- final_statcast_df %>%\n",
        "  filter(year !=2021)\n",
        "\n",
        "test_int1 <- final_statcast_df%>%\n",
        "  filter(year == 2021)\n",
        "\n",
        "test1 <- data2%>%\n",
        "  left_join(test_int1,\n",
        "join_by(bbref_id == key_bbref))%>%\n",
        "  select('last_name, first_name', bbref_id, player_id, year, player_age, on_base_plus_slg, PA1, PA2, PA3, PA4, OPSY1, OPSY2, OPSY3, OPSY4, total_pa,\n",
        "reliability, final_age_adj, weighted_OPS, regr_rate, MARCEL_OPS,xops, xops1, xops2, xops3)%>%\n",
        "  na.omit()\n",
        "\n",
        "\n",
        "model1 <- lm(on_base_plus_slg ~ player_age + (xops1) + (xops2) + (xops3) + total_pa, data = train1)\n",
        "\n",
        "test1$BETTER_THAN_MARCEL_OPS <- predict(model1, test1)\n",
        "\n",
        "\n",
        "#summary(model)\n",
        "\n",
        "cor(test2$BETTER_THAN_MARCEL_OPS, test2$on_base_plus_slg)\n"
      ],
      "metadata": {
        "colab": {
          "base_uri": "https://localhost:8080/",
          "height": 34
        },
        "id": "3fSOdjKXI_Ix",
        "outputId": "8cb5129b-2366-479d-ab87-b568152e4a30"
      },
      "execution_count": null,
      "outputs": [
        {
          "output_type": "display_data",
          "data": {
            "text/html": [
              "0.588361272039812"
            ],
            "text/markdown": "0.588361272039812",
            "text/latex": "0.588361272039812",
            "text/plain": [
              "[1] 0.5883613"
            ]
          },
          "metadata": {}
        }
      ]
    },
    {
      "cell_type": "code",
      "source": [
        "summary(model1)"
      ],
      "metadata": {
        "id": "mX-oPJXWUrx1"
      },
      "execution_count": null,
      "outputs": []
    },
    {
      "cell_type": "code",
      "source": [
        "write_csv(test1, \"marcel_data_submission.csv\")"
      ],
      "metadata": {
        "id": "z0rrag0dSNpE"
      },
      "execution_count": null,
      "outputs": []
    },
    {
      "cell_type": "code",
      "source": [
        "sqrt(mean((test1$MARCEL_OPS - test1$on_base_plus_slg)**2))"
      ],
      "metadata": {
        "colab": {
          "base_uri": "https://localhost:8080/",
          "height": 34
        },
        "id": "zyuhB00BKWu6",
        "outputId": "8d72e397-5b7c-4a42-fb8d-b36b5706b2d9"
      },
      "execution_count": null,
      "outputs": [
        {
          "output_type": "display_data",
          "data": {
            "text/html": [
              "0.111439266218416"
            ],
            "text/markdown": "0.111439266218416",
            "text/latex": "0.111439266218416",
            "text/plain": [
              "[1] 0.1114393"
            ]
          },
          "metadata": {}
        }
      ]
    },
    {
      "cell_type": "code",
      "source": [
        "sqrt(mean((test1$BETTER_THAN_MARCEL_OPS - test1$on_base_plus_slg)**2))"
      ],
      "metadata": {
        "colab": {
          "base_uri": "https://localhost:8080/",
          "height": 34
        },
        "id": "cLAEyEjKnFLP",
        "outputId": "cae5ba5f-0219-4301-a277-07487dd0774e"
      },
      "execution_count": null,
      "outputs": [
        {
          "output_type": "display_data",
          "data": {
            "text/html": [
              "0.105052444073116"
            ],
            "text/markdown": "0.105052444073116",
            "text/latex": "0.105052444073116",
            "text/plain": [
              "[1] 0.1050524"
            ]
          },
          "metadata": {}
        }
      ]
    },
    {
      "cell_type": "code",
      "source": [
        "median(abs(test1$MARCEL_OPS - test1$on_base_plus_slg))"
      ],
      "metadata": {
        "colab": {
          "base_uri": "https://localhost:8080/",
          "height": 34
        },
        "id": "jHBvWG_mJDnz",
        "outputId": "9173dbf5-652a-4733-daf1-64bdf0067dc9"
      },
      "execution_count": null,
      "outputs": [
        {
          "output_type": "display_data",
          "data": {
            "text/html": [
              "0.0629885566566682"
            ],
            "text/markdown": "0.0629885566566682",
            "text/latex": "0.0629885566566682",
            "text/plain": [
              "[1] 0.06298856"
            ]
          },
          "metadata": {}
        }
      ]
    },
    {
      "cell_type": "code",
      "source": [
        "median(abs(test1$BETTER_THAN_MARCEL_OPS - test1$on_base_plus_slg))"
      ],
      "metadata": {
        "colab": {
          "base_uri": "https://localhost:8080/",
          "height": 34
        },
        "id": "2wObGHVAKebp",
        "outputId": "084b0459-719f-480a-8531-9556fea1669c"
      },
      "execution_count": null,
      "outputs": [
        {
          "output_type": "display_data",
          "data": {
            "text/html": [
              "0.0657664178629216"
            ],
            "text/markdown": "0.0657664178629216",
            "text/latex": "0.0657664178629216",
            "text/plain": [
              "[1] 0.06576642"
            ]
          },
          "metadata": {}
        }
      ]
    }
  ],
  "metadata": {
    "colab": {
      "provenance": []
    },
    "kernelspec": {
      "display_name": "R",
      "name": "ir"
    },
    "language_info": {
      "name": "R"
    }
  },
  "nbformat": 4,
  "nbformat_minor": 0
}